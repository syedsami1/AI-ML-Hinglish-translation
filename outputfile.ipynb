{
  "nbformat": 4,
  "nbformat_minor": 0,
  "metadata": {
    "colab": {
      "provenance": []
    },
    "kernelspec": {
      "name": "python3",
      "display_name": "Python 3"
    },
    "language_info": {
      "name": "python"
    }
  },
  "cells": [
    {
      "cell_type": "code",
      "source": [
        "import re\n",
        "\n",
        "def selective_hinglish_translate(text):\n",
        "    # Define a translation dictionary for specific words\n",
        "    translation_dict = {\n",
        "        \"definitely\": \"बिल्कुल\",\n",
        "        \"share\": \"शेयर\",\n",
        "        \"feedback\": \"प्रतिक्रिया\",\n",
        "        \"mention\": \"उल्लेख\",\n",
        "        \"products\": \"उत्पाद\",\n",
        "        \"video\": \"वीडियो\",\n",
        "        \"minute\": \"मिनट\",\n",
        "        \"headset\": \"हेडसेट\",\n",
        "        \"bag\": \"बैग\",\n",
        "    }\n",
        "\n",
        "    # Use regex to find and translate specific words\n",
        "    pattern = re.compile(r'\\b(?:' + '|'.join(re.escape(word) for word in translation_dict.keys()) + r')\\b')\n",
        "\n",
        "    def translate_word(match):\n",
        "        return translation_dict.get(match.group(0).lower(), match.group(0))\n",
        "\n",
        "    translated_text = pattern.sub(translate_word, text)\n",
        "\n",
        "    return translated_text\n",
        "\n",
        "if __name__ == \"__main__\":\n",
        "    # Get the English text to translate.\n",
        "    text_list = [\n",
        "        \"Definitely share your feedback in the comment section.\",\n",
        "        \"So even if it's a big video, I will clearly mention all the products.\",\n",
        "        \"I was waiting for my bag.\"\n",
        "    ]\n",
        "\n",
        "    for text in text_list:\n",
        "        # Translate the text to Hinglish with selective word translation.\n",
        "        hinglish_text = selective_hinglish_translate(text)\n",
        "        # Print the Hinglish translation.\n",
        "        print(hinglish_text)\n"
      ],
      "metadata": {
        "colab": {
          "base_uri": "https://localhost:8080/"
        },
        "id": "WHfH-rmsaOwf",
        "outputId": "721d1b75-4cfa-4ad1-db9d-2bd3e228c898"
      },
      "execution_count": 13,
      "outputs": [
        {
          "output_type": "stream",
          "name": "stdout",
          "text": [
            "Definitely शेयर your प्रतिक्रिया in the comment section.\n",
            "So even if it's a big वीडियो, I will clearly उल्लेख all the उत्पाद.\n",
            "I was waiting for my बैग.\n"
          ]
        }
      ]
    }
  ]
}